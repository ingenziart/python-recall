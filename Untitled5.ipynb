{
  "nbformat": 4,
  "nbformat_minor": 0,
  "metadata": {
    "colab": {
      "provenance": [],
      "authorship_tag": "ABX9TyMcAPbv63ejKwuW8RuU9U4y",
      "include_colab_link": true
    },
    "kernelspec": {
      "name": "python3",
      "display_name": "Python 3"
    },
    "language_info": {
      "name": "python"
    }
  },
  "cells": [
    {
      "cell_type": "markdown",
      "metadata": {
        "id": "view-in-github",
        "colab_type": "text"
      },
      "source": [
        "<a href=\"https://colab.research.google.com/github/ingenziart/python-recall/blob/main/Untitled5.ipynb\" target=\"_parent\"><img src=\"https://colab.research.google.com/assets/colab-badge.svg\" alt=\"Open In Colab\"/></a>"
      ]
    },
    {
      "cell_type": "code",
      "execution_count": 5,
      "metadata": {
        "colab": {
          "base_uri": "https://localhost:8080/"
        },
        "id": "8COlROnf3zUf",
        "outputId": "17dd13a6-fe1d-40aa-a00f-6aa645ba9c2f"
      },
      "outputs": [
        {
          "output_type": "stream",
          "name": "stdout",
          "text": [
            "[3, 7, 9, 14, 15]\n"
          ]
        }
      ],
      "source": [
        "def ascending(array):\n",
        "    n = len(array)\n",
        "    for i in range(n - 1):\n",
        "        for j in range(n - 1 - i):\n",
        "            if array[j] > array[j + 1]:\n",
        "                array[j], array[j + 1] = array[j + 1], array[j]\n",
        "\n",
        "    return array\n",
        "\n",
        "\n",
        "array = [3, 7, 9, 15, 14]\n",
        "print(ascending(array))"
      ]
    },
    {
      "cell_type": "code",
      "source": [
        "my_array = [64, 34, 25, 5, 22, 11, 90, 12]\n",
        "n = len(my_array)\n",
        "for i in range(n - 1):\n",
        "    min_index = i\n",
        "    for j in range(i + 1, n):\n",
        "        if my_array[j] < my_array[min_index]:\n",
        "            min_index = j\n",
        "\n",
        "    my_array[i], my_array[min_index] = my_array[min_index], my_array[i]\n",
        "\n",
        "print(my_array)"
      ],
      "metadata": {
        "colab": {
          "base_uri": "https://localhost:8080/"
        },
        "id": "PgMiNfsT6zHd",
        "outputId": "a337e278-350b-41e3-99fe-eabb262e5725"
      },
      "execution_count": 4,
      "outputs": [
        {
          "output_type": "stream",
          "name": "stdout",
          "text": [
            "[5, 11, 12, 22, 25, 34, 64, 90]\n"
          ]
        }
      ]
    },
    {
      "cell_type": "code",
      "source": [
        "def find_min_max(array):\n",
        "    min_value = array[0]\n",
        "    max_value = array[0]\n",
        "    for i in range(len(array)):\n",
        "        if array[i] < min_value:\n",
        "            min_value = array[i]\n",
        "        elif array[i] > max_value:\n",
        "            max_value = array[i]\n",
        "    return min_value, max_value\n",
        "\n",
        "\n",
        "array = [7, 12, 9, 11, 3]\n",
        "print(find_min_max(array))"
      ],
      "metadata": {
        "colab": {
          "base_uri": "https://localhost:8080/"
        },
        "id": "vG2ey4B3AVx5",
        "outputId": "e71b90f4-5db4-43b5-bf37-0259dc14022c"
      },
      "execution_count": 6,
      "outputs": [
        {
          "output_type": "stream",
          "name": "stdout",
          "text": [
            "(3, 12)\n"
          ]
        }
      ]
    },
    {
      "cell_type": "code",
      "source": [
        "\"\"\"selection sort \"\"\"\n",
        "my_array = [64, 34, 25, 5, 22, 11, 90, 12]\n",
        "n = len(my_array)\n",
        "for i in range(n - 1):\n",
        "    min_index = i\n",
        "    for j in range(i + 1, n):\n",
        "        if my_array[j] < my_array[min_index]:\n",
        "            min_index = j\n",
        "\n",
        "    my_array[i], my_array[min_index] = my_array[min_index], my_array[i]\n",
        "\n",
        "print(my_array)"
      ],
      "metadata": {
        "id": "qk7loIp8CILh"
      },
      "execution_count": null,
      "outputs": []
    }
  ]
}